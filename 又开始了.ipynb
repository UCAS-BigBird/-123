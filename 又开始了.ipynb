{
  "nbformat": 4,
  "nbformat_minor": 0,
  "metadata": {
    "colab": {
      "name": "又开始了",
      "version": "0.3.2",
      "provenance": [],
      "include_colab_link": true
    },
    "kernelspec": {
      "name": "python3",
      "display_name": "Python 3"
    }
  },
  "cells": [
    {
      "cell_type": "markdown",
      "metadata": {
        "id": "view-in-github",
        "colab_type": "text"
      },
      "source": [
        "<a href=\"https://colab.research.google.com/github/UCAS-BigBird/-123/blob/master/%E5%8F%88%E5%BC%80%E5%A7%8B%E4%BA%86.ipynb\" target=\"_parent\"><img src=\"https://colab.research.google.com/assets/colab-badge.svg\" alt=\"Open In Colab\"/></a>"
      ]
    },
    {
      "metadata": {
        "id": "WRG6FkEtk_8z",
        "colab_type": "code",
        "colab": {}
      },
      "cell_type": "code",
      "source": [
        "import pandas as pd\n",
        "import numpy as np\n",
        "import matplotlib.pyplot as plt\n",
        "import seaborn as sns\n",
        "import lightgbm as lgb\n",
        "from sklearn.metrics import  roc_auc_score\n",
        "from timeit import  default_timer as timer\n",
        "from sklearn.metrics import  roc_curve\n",
        "MAX_EVALS = 500\n",
        "N_FOLDS=10"
      ],
      "execution_count": 0,
      "outputs": []
    },
    {
      "metadata": {
        "id": "v2T_j0bTny_1",
        "colab_type": "code",
        "outputId": "b9dfa6a7-59ef-4177-9a99-38e8d1b569ba",
        "colab": {
          "base_uri": "https://localhost:8080/",
          "height": 87
        }
      },
      "cell_type": "code",
      "source": [
        "data=pd.read_csv('caravan-insurance-challenge.csv')\n",
        "train = data[data['ORIGIN'] == 'train']\n",
        "test = data[data['ORIGIN'] == 'test']\n",
        "\n",
        "# Extract the labels and format properly\n",
        "train_labels = np.array(train['CARAVAN'].astype(np.int32)).reshape((-1,))\n",
        "test_labels = np.array(test['CARAVAN'].astype(np.int32)).reshape((-1,))\n",
        "\n",
        "# Drop the unneeded columns\n",
        "train = train.drop(columns = ['ORIGIN', 'CARAVAN'])\n",
        "test = test.drop(columns = ['ORIGIN', 'CARAVAN'])\n",
        "#for splitting in cross validation\n",
        "features = np.array(train)\n",
        "test_features = np.array(test)\n",
        "#取所有的train——label\n",
        "labels = train_labels[:]\n",
        "print('Train shape: ', train.shape)\n",
        "print('Test shape: ', test.shape)\n",
        "train = data[data['ORIGIN'] == 'train']\n",
        "test = data[data['ORIGIN'] == 'test']\n",
        "\n",
        "# Extract the labels and format properly\n",
        "train_labels = np.array(train['CARAVAN'].astype(np.int32)).reshape((-1,))\n",
        "test_labels = np.array(test['CARAVAN'].astype(np.int32)).reshape((-1,))\n",
        "\n",
        "# Drop the unneeded columns\n",
        "train = train.drop(columns = ['ORIGIN', 'CARAVAN'])\n",
        "test = test.drop(columns = ['ORIGIN', 'CARAVAN'])\n",
        "#for splitting in cross validation\n",
        "features = np.array(train)\n",
        "test_features = np.array(test)\n",
        "#取所有的train——label\n",
        "labels = train_labels[:]\n",
        "print('Train shape: ', train.shape)\n",
        "print('Test shape: ', test.shape)"
      ],
      "execution_count": 0,
      "outputs": [
        {
          "output_type": "stream",
          "text": [
            "Train shape:  (5822, 85)\n",
            "Test shape:  (4000, 85)\n",
            "Train shape:  (5822, 85)\n",
            "Test shape:  (4000, 85)\n"
          ],
          "name": "stdout"
        }
      ]
    },
    {
      "metadata": {
        "id": "Tf0ZCv3GoTPm",
        "colab_type": "code",
        "colab": {}
      },
      "cell_type": "code",
      "source": [
        "import random\n",
        "# Hyperparameter grid\n",
        "param_grid = {\n",
        "    'class_weight': [None, 'balanced'],\n",
        "    'boosting_type': ['gbdt', 'goss', 'dart'],\n",
        "    'num_leaves': list(range(30, 150)),\n",
        "    'learning_rate': list(np.logspace(np.log(0.005), np.log(0.2), base = np.exp(1), num = 1000)),\n",
        "    'subsample_for_bin': list(range(20000, 300000, 20000)),\n",
        "    'min_child_samples': list(range(20, 500, 5)),\n",
        "    'reg_alpha': list(np.linspace(0, 1)),\n",
        "    'reg_lambda': list(np.linspace(0, 1)),\n",
        "    'colsample_bytree': list(np.linspace(0.6, 1, 10))\n",
        "}\n",
        "subsample_dist = list(np.linspace(0.5, 1, 100))"
      ],
      "execution_count": 0,
      "outputs": []
    },
    {
      "metadata": {
        "id": "v8Q52n8mobpq",
        "colab_type": "code",
        "outputId": "ee676081-21a4-4f82-935d-b1fd621e2c44",
        "colab": {
          "base_uri": "https://localhost:8080/",
          "height": 91
        }
      },
      "cell_type": "code",
      "source": [
        "random_results = pd.DataFrame(columns = ['loss', 'params', 'iteration', 'estimators', 'time'],\n",
        "                       index = list(range(MAX_EVALS)))\n",
        "train_set = lgb.Dataset(train, label = train_labels)\n",
        "\n",
        "def random_objective(params, iteration, n_folds = N_FOLDS):\n",
        "    \"\"\"Random search objective function. Takes in hyperparameters\n",
        "       and returns a list of results to be saved.\"\"\"\n",
        "    start = timer()\n",
        "    # Perform n_folds cross validation\n",
        "    cv_results = lgb.cv(params, train_set, num_boost_round = 10000, nfold = n_folds, \n",
        "                        early_stopping_rounds = 100, metrics = 'auc', seed = 50)\n",
        "    end = timer()\n",
        "    best_score = np.max(cv_results['auc-mean'])\n",
        "    # Loss must be minimized\n",
        "    loss = 1 - best_score\n",
        "    # Boosting rounds that returned the highest cv score\n",
        "    n_estimators = int(np.argmax(cv_results['auc-mean']) + 1)\n",
        "    # Return list of results\n",
        "    return [loss, params, iteration, n_estimators, end - start]\n",
        "\n",
        "for i in range(MAX_EVALS):\n",
        "    params = {key: random.sample(value, 1)[0] for key, value in param_grid.items()}\n",
        "    print(params)\n",
        "    if params['boosting_type'] == 'goss':\n",
        "        # Cannot subsample with goss\n",
        "        params['subsample'] = 1.0\n",
        "    else:\n",
        "        # Subsample supported for gdbt and dart\n",
        "        params['subsample'] = random.sample(subsample_dist, 1)[0]    \n",
        "    results_list = random_objective(params, i)\n",
        "    # Add results to next row in dataframe\n",
        "    random_results.loc[i, :] = results_list\n",
        "    \n",
        "random_results.to_csv('final_result.csv')"
      ],
      "execution_count": 0,
      "outputs": [
        {
          "output_type": "stream",
          "text": [
            "{'class_weight': 'balanced', 'boosting_type': 'dart', 'num_leaves': 145, 'learning_rate': 0.031332196449772066, 'subsample_for_bin': 180000, 'min_child_samples': 230, 'reg_alpha': 0.2857142857142857, 'reg_lambda': 0.8163265306122448, 'colsample_bytree': 0.8222222222222222}\n"
          ],
          "name": "stdout"
        },
        {
          "output_type": "stream",
          "text": [
            "/usr/local/lib/python3.6/dist-packages/lightgbm/callback.py:189: UserWarning: Early stopping is not available in dart mode\n",
            "  warnings.warn('Early stopping is not available in dart mode')\n"
          ],
          "name": "stderr"
        }
      ]
    },
    {
      "metadata": {
        "id": "jTRV44yDoaVf",
        "colab_type": "code",
        "colab": {}
      },
      "cell_type": "code",
      "source": [
        ""
      ],
      "execution_count": 0,
      "outputs": []
    }
  ]
}